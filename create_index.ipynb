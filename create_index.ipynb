{
 "cells": [
  {
   "cell_type": "code",
   "execution_count": 1,
   "metadata": {},
   "outputs": [],
   "source": [
    "import os\n",
    "import time\n",
    "import xml.etree.ElementTree as ET\n",
    "from collections import OrderedDict\n",
    "\n",
    "import numpy as np\n",
    "import pandas as pd"
   ]
  },
  {
   "cell_type": "code",
   "execution_count": 2,
   "metadata": {},
   "outputs": [],
   "source": [
    "# Data from:\n",
    "# https://www.irs.gov/charities-non-profits/form-990-series-downloads"
   ]
  },
  {
   "cell_type": "code",
   "execution_count": 3,
   "metadata": {},
   "outputs": [],
   "source": [
    "base = 'download990xml'"
   ]
  },
  {
   "cell_type": "code",
   "execution_count": 4,
   "metadata": {},
   "outputs": [],
   "source": [
    "subs = []\n",
    "for text in os.listdir(base):\n",
    "    if text.startswith('download990xml'):\n",
    "        subs += [text]\n",
    "        \n",
    "subs.sort()\n",
    "# display(subs)"
   ]
  },
  {
   "cell_type": "code",
   "execution_count": 5,
   "metadata": {},
   "outputs": [
    {
     "name": "stdout",
     "output_type": "stream",
     "text": [
      "Create an index file for each download folder:\n",
      "\n",
      "01 of 45, download990xml_2015_1, 1.21 min\n",
      "02 of 45, download990xml_2015_2, 1.10 min\n",
      "03 of 45, download990xml_2016_1, 1.25 min\n",
      "04 of 45, download990xml_2016_2, 1.26 min\n",
      "05 of 45, download990xml_2016_3, 1.24 min\n",
      "06 of 45, download990xml_2016_4, 1.26 min\n",
      "07 of 45, download990xml_2016_5, 1.24 min\n",
      "08 of 45, download990xml_2016_6, 0.76 min\n",
      "09 of 45, download990xml_2017_1, 1.25 min\n",
      "10 of 45, download990xml_2017_2, 1.25 min\n",
      "11 of 45, download990xml_2017_3, 1.25 min\n",
      "12 of 45, download990xml_2017_4, 1.25 min\n",
      "13 of 45, download990xml_2017_5, 1.25 min\n",
      "14 of 45, download990xml_2017_6, 1.25 min\n",
      "15 of 45, download990xml_2017_7, 0.51 min\n",
      "16 of 45, download990xml_2018_1, 1.26 min\n",
      "17 of 45, download990xml_2018_2, 1.27 min\n",
      "18 of 45, download990xml_2018_3, 1.27 min\n",
      "19 of 45, download990xml_2018_4, 1.27 min\n",
      "20 of 45, download990xml_2018_5, 1.26 min\n",
      "21 of 45, download990xml_2018_6, 1.24 min\n",
      "22 of 45, download990xml_2018_7, 0.93 min\n",
      "23 of 45, download990xml_2019_1, 1.25 min\n",
      "24 of 45, download990xml_2019_2, 1.25 min\n",
      "25 of 45, download990xml_2019_3, 1.24 min\n",
      "26 of 45, download990xml_2019_4, 1.27 min\n",
      "27 of 45, download990xml_2019_5, 1.25 min\n",
      "28 of 45, download990xml_2019_6, 1.24 min\n",
      "29 of 45, download990xml_2019_7, 1.25 min\n",
      "30 of 45, download990xml_2019_8, 0.59 min\n",
      "31 of 45, download990xml_2020_1, 1.25 min\n",
      "32 of 45, download990xml_2020_2, 1.25 min\n",
      "33 of 45, download990xml_2020_3, 1.25 min\n",
      "34 of 45, download990xml_2020_4, 1.26 min\n",
      "35 of 45, download990xml_2020_5, 1.28 min\n",
      "36 of 45, download990xml_2020_6, 1.25 min\n",
      "37 of 45, download990xml_2020_7, 1.25 min\n",
      "38 of 45, download990xml_2020_8, 0.50 min\n",
      "39 of 45, download990xml_2021_1, 1.24 min\n",
      "40 of 45, download990xml_2021_2, 1.28 min\n",
      "41 of 45, download990xml_2021_3, 1.26 min\n",
      "42 of 45, download990xml_2021_4, 1.24 min\n",
      "43 of 45, download990xml_2021_5, 1.26 min\n",
      "44 of 45, download990xml_2021_6, 1.26 min\n",
      "45 of 45, download990xml_2022  , 0.38 min\n"
     ]
    }
   ],
   "source": [
    "print('Create an index file for each download folder:\\n')\n",
    "for i, sub in enumerate(subs):\n",
    "    start = time.time()\n",
    "    print(f'{i + 1:02} of {len(subs):02}, {sub:<21}', end = '')\n",
    "\n",
    "    files = []\n",
    "    for text in os.listdir(os.path.join(base, sub)):\n",
    "        if text.endswith('public.xml'):\n",
    "            files += [text]\n",
    "\n",
    "    list0 =[]\n",
    "    for file in files:\n",
    "        with open(os.path.join(base, sub, file), 'r') as f: text = f.read()\n",
    "        text = text.replace('xmlns=\"http://www.irs.gov/efile\"', '')\n",
    "\n",
    "        root = ET.fromstring(text)\n",
    "        dic = OrderedDict()\n",
    "\n",
    "        year1 = root.find('ReturnHeader/TaxYear')\n",
    "        year2 = root.find('ReturnHeader/TaxYr')\n",
    "        if year1 is not None: dic['Year'] = int(year1.text)\n",
    "        if year2 is not None: dic['Year'] = int(year2.text)\n",
    "\n",
    "        form1 = root.find('ReturnHeader/ReturnType')     \n",
    "        form2 = root.find('ReturnHeader/ReturnTypeCd')\n",
    "        if form1 is not None: dic['Form'] = form1.text\n",
    "        if form2 is not None: dic['Form'] = form2.text\n",
    "\n",
    "        state1 = root.find('ReturnHeader/Filer/USAddress/State')  \n",
    "        state2 = root.find('ReturnHeader/Filer/USAddress/StateAbbreviationCd')\n",
    "        if state1 is not None: dic['State'] = state1.text\n",
    "        if state2 is not None: dic['State'] = state2.text\n",
    "            \n",
    "        path = os.path.join(sub, file)\n",
    "        dic['Path'] = path\n",
    "        \n",
    "        list0 += [dic]\n",
    "\n",
    "    df0 = pd.DataFrame(list0)\n",
    "    index = 'index' + sub.split('download990xml')[1]\n",
    "    df0.to_csv(os.path.join(base, index), index=False)\n",
    "    \n",
    "    stop = time.time()\n",
    "    print(f', {(stop - start)/60:.2f} min')"
   ]
  },
  {
   "cell_type": "code",
   "execution_count": 6,
   "metadata": {},
   "outputs": [],
   "source": [
    "indexes = []\n",
    "for text in os.listdir(base):\n",
    "    if text.startswith('index'):\n",
    "        indexes += [text]\n",
    "        \n",
    "indexes.sort()\n",
    "# display(indexes)"
   ]
  },
  {
   "cell_type": "code",
   "execution_count": 7,
   "metadata": {},
   "outputs": [],
   "source": [
    "df1 = pd.DataFrame()\n",
    "for index in indexes:\n",
    "    new = pd.read_csv(os.path.join(base, index))\n",
    "    df1 = df1.append(new, ignore_index=True)\n",
    "    \n",
    "df1.to_csv(os.path.join(base, 'index'), index=False)"
   ]
  },
  {
   "cell_type": "code",
   "execution_count": 8,
   "metadata": {},
   "outputs": [
    {
     "name": "stdout",
     "output_type": "stream",
     "text": [
      "Year,Form,State,Path\r\n",
      "2014.0,990PF,NJ,download990xml_2015_1/201513209349103101_public.xml\r\n",
      "2014.0,990,OH,download990xml_2015_1/201503209349307025_public.xml\r\n",
      "2014.0,990,NY,download990xml_2015_1/201513179349306981_public.xml\r\n",
      "2014.0,990PF,MI,download990xml_2015_1/201503009349100100_public.xml\r\n",
      "2014.0,990,VA,download990xml_2015_1/201503149349301075_public.xml\r\n",
      "2014.0,990,MN,download990xml_2015_1/201513369349300901_public.xml\r\n",
      "2014.0,990,PA,download990xml_2015_1/201513169349303261_public.xml\r\n",
      "2014.0,990EZ,MA,download990xml_2015_1/201503209349203800_public.xml\r\n",
      "2014.0,990,MO,download990xml_2015_1/201513579349300206_public.xml\r\n"
     ]
    }
   ],
   "source": [
    "! head download990xml/index"
   ]
  },
  {
   "cell_type": "code",
   "execution_count": 9,
   "metadata": {},
   "outputs": [
    {
     "name": "stdout",
     "output_type": "stream",
     "text": [
      "2020.0,990,TN,download990xml_2022/202200289349300010_public.xml\r\n",
      "2020.0,990,IL,download990xml_2022/202220539349300112_public.xml\r\n",
      "2020.0,990,WI,download990xml_2022/202210469349300126_public.xml\r\n",
      "2020.0,990,NY,download990xml_2022/202200759349300400_public.xml\r\n",
      "2020.0,990,NC,download990xml_2022/202220249349301007_public.xml\r\n",
      "2020.0,990,NC,download990xml_2022/202230359349301528_public.xml\r\n",
      "2020.0,990,NY,download990xml_2022/202240749349300524_public.xml\r\n",
      "2019.0,990,AZ,download990xml_2022/202200349349300930_public.xml\r\n",
      "2020.0,990,PA,download990xml_2022/202230409349300203_public.xml\r\n",
      "2020.0,990,CA,download990xml_2022/202220429349302017_public.xml\r\n"
     ]
    }
   ],
   "source": [
    "! tail download990xml/index"
   ]
  },
  {
   "cell_type": "code",
   "execution_count": null,
   "metadata": {},
   "outputs": [],
   "source": []
  },
  {
   "cell_type": "code",
   "execution_count": null,
   "metadata": {},
   "outputs": [],
   "source": []
  },
  {
   "cell_type": "code",
   "execution_count": null,
   "metadata": {},
   "outputs": [],
   "source": []
  }
 ],
 "metadata": {
  "kernelspec": {
   "display_name": "Python 3",
   "language": "python",
   "name": "python3"
  },
  "language_info": {
   "codemirror_mode": {
    "name": "ipython",
    "version": 3
   },
   "file_extension": ".py",
   "mimetype": "text/x-python",
   "name": "python",
   "nbconvert_exporter": "python",
   "pygments_lexer": "ipython3",
   "version": "3.8.5"
  }
 },
 "nbformat": 4,
 "nbformat_minor": 4
}
