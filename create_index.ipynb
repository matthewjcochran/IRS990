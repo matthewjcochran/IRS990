{
 "cells": [
  {
   "cell_type": "code",
   "execution_count": 1,
   "metadata": {},
   "outputs": [],
   "source": [
    "import os\n",
    "import time\n",
    "import xml.etree.ElementTree as ET\n",
    "from collections import OrderedDict\n",
    "\n",
    "import numpy as np\n",
    "import pandas as pd"
   ]
  },
  {
   "cell_type": "code",
   "execution_count": 2,
   "metadata": {},
   "outputs": [],
   "source": [
    "# Data from:\n",
    "# https://www.irs.gov/charities-non-profits/form-990-series-downloads"
   ]
  },
  {
   "cell_type": "code",
   "execution_count": 3,
   "metadata": {},
   "outputs": [],
   "source": [
    "base = 'download990xml'"
   ]
  },
  {
   "cell_type": "code",
   "execution_count": 4,
   "metadata": {},
   "outputs": [],
   "source": [
    "subs = []\n",
    "for text in os.listdir(base):\n",
    "    if text.startswith('download990xml'):\n",
    "        subs.append(text)\n",
    "        \n",
    "subs.sort()\n",
    "# display(subs)"
   ]
  },
  {
   "cell_type": "code",
   "execution_count": 5,
   "metadata": {},
   "outputs": [
    {
     "name": "stdout",
     "output_type": "stream",
     "text": [
      "Create an index file for each download folder:\n",
      "\n",
      "01 of 45, download990xml_2015_1, 1.21 min\n",
      "02 of 45, download990xml_2015_2, 1.09 min\n",
      "03 of 45, download990xml_2016_1, 1.23 min\n",
      "04 of 45, download990xml_2016_2, 1.25 min\n",
      "05 of 45, download990xml_2016_3, 1.23 min\n",
      "06 of 45, download990xml_2016_4, 1.24 min\n",
      "07 of 45, download990xml_2016_5, 1.23 min\n",
      "08 of 45, download990xml_2016_6, 0.74 min\n",
      "09 of 45, download990xml_2017_1, 1.23 min\n",
      "10 of 45, download990xml_2017_2, 1.24 min\n",
      "11 of 45, download990xml_2017_3, 1.24 min\n",
      "12 of 45, download990xml_2017_4, 1.24 min\n",
      "13 of 45, download990xml_2017_5, 1.25 min\n",
      "14 of 45, download990xml_2017_6, 1.24 min\n",
      "15 of 45, download990xml_2017_7, 0.50 min\n",
      "16 of 45, download990xml_2018_1, 1.26 min\n",
      "17 of 45, download990xml_2018_2, 1.25 min\n",
      "18 of 45, download990xml_2018_3, 1.25 min\n",
      "19 of 45, download990xml_2018_4, 1.26 min\n",
      "20 of 45, download990xml_2018_5, 1.25 min\n",
      "21 of 45, download990xml_2018_6, 1.25 min\n",
      "22 of 45, download990xml_2018_7, 0.92 min\n",
      "23 of 45, download990xml_2019_1, 1.24 min\n",
      "24 of 45, download990xml_2019_2, 1.24 min\n",
      "25 of 45, download990xml_2019_3, 1.23 min\n",
      "26 of 45, download990xml_2019_4, 1.25 min\n",
      "27 of 45, download990xml_2019_5, 1.24 min\n",
      "28 of 45, download990xml_2019_6, 1.23 min\n",
      "29 of 45, download990xml_2019_7, 1.23 min\n",
      "30 of 45, download990xml_2019_8, 0.59 min\n",
      "31 of 45, download990xml_2020_1, 1.23 min\n",
      "32 of 45, download990xml_2020_2, 1.24 min\n",
      "33 of 45, download990xml_2020_3, 1.24 min\n",
      "34 of 45, download990xml_2020_4, 1.25 min\n",
      "35 of 45, download990xml_2020_5, 1.25 min\n",
      "36 of 45, download990xml_2020_6, 1.23 min\n",
      "37 of 45, download990xml_2020_7, 1.23 min\n",
      "38 of 45, download990xml_2020_8, 0.50 min\n",
      "39 of 45, download990xml_2021_1, 1.22 min\n",
      "40 of 45, download990xml_2021_2, 1.26 min\n",
      "41 of 45, download990xml_2021_3, 1.25 min\n",
      "42 of 45, download990xml_2021_4, 1.23 min\n",
      "43 of 45, download990xml_2021_5, 1.25 min\n",
      "44 of 45, download990xml_2021_6, 1.24 min\n",
      "45 of 45, download990xml_2022  , 0.37 min\n"
     ]
    }
   ],
   "source": [
    "print('Create an index file for each download folder:\\n')\n",
    "for i, sub in enumerate(subs):\n",
    "    start = time.time()\n",
    "    print(f'{i + 1:02} of {len(subs):02}, {sub:<21}', end = '')\n",
    "\n",
    "    files = []\n",
    "    for text in os.listdir(os.path.join(base, sub)):\n",
    "        if text.endswith('public.xml'):\n",
    "            files += [text]\n",
    "\n",
    "    list0 =[]\n",
    "    for file in files:\n",
    "        with open(os.path.join(base, sub, file), 'r') as f: text = f.read()\n",
    "        text = text.replace('xmlns=\"http://www.irs.gov/efile\"', '')\n",
    "\n",
    "        root = ET.fromstring(text)\n",
    "        dic = OrderedDict()\n",
    "        dic['Year'] = 0\n",
    "        dic['Form'] = 0\n",
    "        dic['State'] = 'XX'\n",
    "\n",
    "        year1 = root.find('ReturnHeader/TaxYear')\n",
    "        year2 = root.find('ReturnHeader/TaxYr')\n",
    "        if year1 is not None: dic['Year'] = year1.text\n",
    "        if year2 is not None: dic['Year'] = year2.text\n",
    "\n",
    "        form1 = root.find('ReturnHeader/ReturnType')     \n",
    "        form2 = root.find('ReturnHeader/ReturnTypeCd')\n",
    "        if form1 is not None: dic['Form'] = form1.text\n",
    "        if form2 is not None: dic['Form'] = form2.text\n",
    "\n",
    "        state1 = root.find('ReturnHeader/Filer/USAddress/State')  \n",
    "        state2 = root.find('ReturnHeader/Filer/USAddress/StateAbbreviationCd')\n",
    "        if state1 is not None: dic['State'] = state1.text\n",
    "        if state2 is not None: dic['State'] = state2.text\n",
    "            \n",
    "        path = os.path.join(sub, file)\n",
    "        dic['Path'] = path\n",
    "        \n",
    "        list0.append(dic)\n",
    "\n",
    "    df0 = pd.DataFrame(list0)\n",
    "    index =  sub.replace('download990xml', 'index')\n",
    "    df0.to_csv(os.path.join(base, index), index=False)\n",
    "    \n",
    "    stop = time.time()\n",
    "    print(f', {(stop - start)/60:.2f} min')"
   ]
  },
  {
   "cell_type": "code",
   "execution_count": 6,
   "metadata": {},
   "outputs": [],
   "source": [
    "indexes = []\n",
    "for text in os.listdir(base):\n",
    "    if text.startswith('index_'):\n",
    "        indexes.append(text)\n",
    "        \n",
    "indexes.sort()\n",
    "# display(indexes)"
   ]
  },
  {
   "cell_type": "code",
   "execution_count": 7,
   "metadata": {},
   "outputs": [
    {
     "data": {
      "text/html": [
       "<div>\n",
       "<style scoped>\n",
       "    .dataframe tbody tr th:only-of-type {\n",
       "        vertical-align: middle;\n",
       "    }\n",
       "\n",
       "    .dataframe tbody tr th {\n",
       "        vertical-align: top;\n",
       "    }\n",
       "\n",
       "    .dataframe thead th {\n",
       "        text-align: right;\n",
       "    }\n",
       "</style>\n",
       "<table border=\"1\" class=\"dataframe\">\n",
       "  <thead>\n",
       "    <tr style=\"text-align: right;\">\n",
       "      <th></th>\n",
       "      <th>Year</th>\n",
       "      <th>Form</th>\n",
       "      <th>State</th>\n",
       "      <th>Path</th>\n",
       "    </tr>\n",
       "  </thead>\n",
       "  <tbody>\n",
       "    <tr>\n",
       "      <th>0</th>\n",
       "      <td>2014</td>\n",
       "      <td>990PF</td>\n",
       "      <td>NJ</td>\n",
       "      <td>download990xml_2015_1/201513209349103101_publi...</td>\n",
       "    </tr>\n",
       "    <tr>\n",
       "      <th>1</th>\n",
       "      <td>2014</td>\n",
       "      <td>990</td>\n",
       "      <td>OH</td>\n",
       "      <td>download990xml_2015_1/201503209349307025_publi...</td>\n",
       "    </tr>\n",
       "    <tr>\n",
       "      <th>2</th>\n",
       "      <td>2014</td>\n",
       "      <td>990</td>\n",
       "      <td>NY</td>\n",
       "      <td>download990xml_2015_1/201513179349306981_publi...</td>\n",
       "    </tr>\n",
       "    <tr>\n",
       "      <th>3</th>\n",
       "      <td>2014</td>\n",
       "      <td>990PF</td>\n",
       "      <td>MI</td>\n",
       "      <td>download990xml_2015_1/201503009349100100_publi...</td>\n",
       "    </tr>\n",
       "    <tr>\n",
       "      <th>4</th>\n",
       "      <td>2014</td>\n",
       "      <td>990</td>\n",
       "      <td>VA</td>\n",
       "      <td>download990xml_2015_1/201503149349301075_publi...</td>\n",
       "    </tr>\n",
       "    <tr>\n",
       "      <th>...</th>\n",
       "      <td>...</td>\n",
       "      <td>...</td>\n",
       "      <td>...</td>\n",
       "      <td>...</td>\n",
       "    </tr>\n",
       "    <tr>\n",
       "      <th>2698283</th>\n",
       "      <td>2020</td>\n",
       "      <td>990</td>\n",
       "      <td>NC</td>\n",
       "      <td>download990xml_2022/202230359349301528_public.xml</td>\n",
       "    </tr>\n",
       "    <tr>\n",
       "      <th>2698284</th>\n",
       "      <td>2020</td>\n",
       "      <td>990</td>\n",
       "      <td>NY</td>\n",
       "      <td>download990xml_2022/202240749349300524_public.xml</td>\n",
       "    </tr>\n",
       "    <tr>\n",
       "      <th>2698285</th>\n",
       "      <td>2019</td>\n",
       "      <td>990</td>\n",
       "      <td>AZ</td>\n",
       "      <td>download990xml_2022/202200349349300930_public.xml</td>\n",
       "    </tr>\n",
       "    <tr>\n",
       "      <th>2698286</th>\n",
       "      <td>2020</td>\n",
       "      <td>990</td>\n",
       "      <td>PA</td>\n",
       "      <td>download990xml_2022/202230409349300203_public.xml</td>\n",
       "    </tr>\n",
       "    <tr>\n",
       "      <th>2698287</th>\n",
       "      <td>2020</td>\n",
       "      <td>990</td>\n",
       "      <td>CA</td>\n",
       "      <td>download990xml_2022/202220429349302017_public.xml</td>\n",
       "    </tr>\n",
       "  </tbody>\n",
       "</table>\n",
       "<p>2698288 rows × 4 columns</p>\n",
       "</div>"
      ],
      "text/plain": [
       "         Year   Form State                                               Path\n",
       "0        2014  990PF    NJ  download990xml_2015_1/201513209349103101_publi...\n",
       "1        2014    990    OH  download990xml_2015_1/201503209349307025_publi...\n",
       "2        2014    990    NY  download990xml_2015_1/201513179349306981_publi...\n",
       "3        2014  990PF    MI  download990xml_2015_1/201503009349100100_publi...\n",
       "4        2014    990    VA  download990xml_2015_1/201503149349301075_publi...\n",
       "...       ...    ...   ...                                                ...\n",
       "2698283  2020    990    NC  download990xml_2022/202230359349301528_public.xml\n",
       "2698284  2020    990    NY  download990xml_2022/202240749349300524_public.xml\n",
       "2698285  2019    990    AZ  download990xml_2022/202200349349300930_public.xml\n",
       "2698286  2020    990    PA  download990xml_2022/202230409349300203_public.xml\n",
       "2698287  2020    990    CA  download990xml_2022/202220429349302017_public.xml\n",
       "\n",
       "[2698288 rows x 4 columns]"
      ]
     },
     "metadata": {},
     "output_type": "display_data"
    },
    {
     "name": "stdout",
     "output_type": "stream",
     "text": [
      "<class 'pandas.core.frame.DataFrame'>\n",
      "RangeIndex: 2698288 entries, 0 to 2698287\n",
      "Data columns (total 4 columns):\n",
      " #   Column  Non-Null Count    Dtype \n",
      "---  ------  --------------    ----- \n",
      " 0   Year    2698288 non-null  int64 \n",
      " 1   Form    2698288 non-null  object\n",
      " 2   State   2698288 non-null  object\n",
      " 3   Path    2698288 non-null  object\n",
      "dtypes: int64(1), object(3)\n",
      "memory usage: 82.3+ MB\n"
     ]
    },
    {
     "data": {
      "text/plain": [
       "None"
      ]
     },
     "metadata": {},
     "output_type": "display_data"
    }
   ],
   "source": [
    "list1 = []\n",
    "for index in indexes:\n",
    "    df = pd.read_csv(os.path.join(base, index))\n",
    "    list1.append(df)\n",
    "    \n",
    "df1 = pd.concat(list1, ignore_index=True)\n",
    "display(df1)\n",
    "display(df1.info(null_counts=True))"
   ]
  },
  {
   "cell_type": "code",
   "execution_count": 8,
   "metadata": {},
   "outputs": [],
   "source": [
    "df1.to_csv(os.path.join(base, 'index'), index=False)"
   ]
  },
  {
   "cell_type": "code",
   "execution_count": 9,
   "metadata": {},
   "outputs": [
    {
     "data": {
      "text/plain": [
       "2020    289318\n",
       "2019    478307\n",
       "2018    476608\n",
       "2017    439338\n",
       "2016    429705\n",
       "2015    369989\n",
       "2014    211379\n",
       "2013      3453\n",
       "2012       187\n",
       "0            4\n",
       "Name: Year, dtype: int64"
      ]
     },
     "metadata": {},
     "output_type": "display_data"
    },
    {
     "data": {
      "text/plain": [
       "990      1500769\n",
       "990EZ     774883\n",
       "990PF     378123\n",
       "990T       44509\n",
       "0              4\n",
       "Name: Form, dtype: int64"
      ]
     },
     "metadata": {},
     "output_type": "display_data"
    },
    {
     "data": {
      "text/plain": [
       "CA    316281\n",
       "NY    237240\n",
       "TX    160742\n",
       "PA    136298\n",
       "FL    132462\n",
       "OH    110884\n",
       "IL    101998\n",
       "MA     89207\n",
       "NJ     83499\n",
       "MI     75609\n",
       "VA     72684\n",
       "NC     65745\n",
       "GA     62762\n",
       "MN     59039\n",
       "WA     56661\n",
       "WI     56453\n",
       "CO     54005\n",
       "MO     52371\n",
       "MD     51781\n",
       "IN     49976\n",
       "TN     43728\n",
       "CT     41316\n",
       "OR     37592\n",
       "IA     33251\n",
       "AZ     32909\n",
       "AL     31464\n",
       "DC     31237\n",
       "SC     30324\n",
       "LA     28856\n",
       "KS     26991\n",
       "KY     26831\n",
       "OK     25287\n",
       "NE     23457\n",
       "RI     20406\n",
       "AR     19553\n",
       "NV     19440\n",
       "UT     17738\n",
       "MS     16882\n",
       "ME     16472\n",
       "NM     15423\n",
       "MT     15336\n",
       "NH     15166\n",
       "DE     13888\n",
       "WV     13738\n",
       "ID     12295\n",
       "HI     12166\n",
       "VT     11078\n",
       "SD     10360\n",
       "AK      9323\n",
       "ND      8815\n",
       "WY      8049\n",
       "XX      1784\n",
       "PR      1079\n",
       "VI       291\n",
       "GU        24\n",
       "AP        24\n",
       "AE         9\n",
       "MP         6\n",
       "AS         3\n",
       "Name: State, dtype: int64"
      ]
     },
     "metadata": {},
     "output_type": "display_data"
    }
   ],
   "source": [
    "display(df1['Year'].value_counts().sort_index(ascending=False))\n",
    "display(df1['Form'].value_counts())\n",
    "display(df1['State'].value_counts())"
   ]
  },
  {
   "cell_type": "code",
   "execution_count": 10,
   "metadata": {},
   "outputs": [],
   "source": [
    "# The four files with year zero have an issue with the namespace.\n",
    "# The issue can be corrected.  We ignore it for now."
   ]
  },
  {
   "cell_type": "code",
   "execution_count": null,
   "metadata": {},
   "outputs": [],
   "source": []
  },
  {
   "cell_type": "code",
   "execution_count": null,
   "metadata": {},
   "outputs": [],
   "source": []
  },
  {
   "cell_type": "code",
   "execution_count": null,
   "metadata": {},
   "outputs": [],
   "source": []
  }
 ],
 "metadata": {
  "kernelspec": {
   "display_name": "Python 3",
   "language": "python",
   "name": "python3"
  },
  "language_info": {
   "codemirror_mode": {
    "name": "ipython",
    "version": 3
   },
   "file_extension": ".py",
   "mimetype": "text/x-python",
   "name": "python",
   "nbconvert_exporter": "python",
   "pygments_lexer": "ipython3",
   "version": "3.8.5"
  }
 },
 "nbformat": 4,
 "nbformat_minor": 4
}
